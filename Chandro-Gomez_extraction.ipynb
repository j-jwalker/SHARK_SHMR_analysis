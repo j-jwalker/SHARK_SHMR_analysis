{
 "cells": [
  {
   "cell_type": "code",
   "execution_count": 11,
   "id": "56b3880c-56e2-4c9f-8cc6-a4402d1ccc2f",
   "metadata": {},
   "outputs": [
    {
     "name": "stdout",
     "output_type": "stream",
     "text": [
      "Current Directory: C:\\Users\\Jonah\\THESIS\n",
      "Found file: C:\\Users\\Jonah\\THESIS\\Shark_v2_Chandro25_ss161-177-201.tar.gz\n"
     ]
    },
    {
     "name": "stderr",
     "output_type": "stream",
     "text": [
      "C:\\Users\\Jonah\\AppData\\Local\\Temp\\ipykernel_1292\\2464370326.py:24: DeprecationWarning: Python 3.14 will, by default, filter extracted tar archives and reject files or modify their metadata. Use the filter argument to control this behavior.\n",
      "  tar.extractall(path=extract_to)\n"
     ]
    },
    {
     "name": "stdout",
     "output_type": "stream",
     "text": [
      "Extraction completed. Files are in: C:\\Users\\Jonah\\THESIS\\chandro_gomez_extracted_py\n"
     ]
    }
   ],
   "source": [
    "import tarfile\n",
    "import os\n",
    "\n",
    "# Get the current working directory\n",
    "current_dir = os.getcwd()\n",
    "print(f\"Current Directory: {current_dir}\")\n",
    "\n",
    "# Since we're already in THESIS, we don't need the extra THESIS in the path\n",
    "tar_file_path = os.path.join(current_dir, 'Shark_v2_Chandro25_ss161-177-201.tar.gz')\n",
    "extract_to = os.path.join(current_dir, 'chandro_gomez_extracted_py')\n",
    "\n",
    "# Check if the file exists before attempting to extract\n",
    "if not os.path.exists(tar_file_path):\n",
    "    print(f\"File not found: {tar_file_path}\")\n",
    "else:\n",
    "    print(f\"Found file: {tar_file_path}\")\n",
    "\n",
    "    # Create the extraction directory if it doesn't exist\n",
    "    if not os.path.exists(extract_to):\n",
    "        os.makedirs(extract_to)\n",
    "\n",
    "    # Extract the tar.gz file\n",
    "    with tarfile.open(tar_file_path, 'r:gz') as tar:\n",
    "        tar.extractall(path=extract_to)\n",
    "\n",
    "    print(f\"Extraction completed. Files are in: {extract_to}\")\n"
   ]
  },
  {
   "cell_type": "code",
   "execution_count": null,
   "id": "cb411934-2105-4863-b6a0-f4a294e0e487",
   "metadata": {},
   "outputs": [],
   "source": []
  }
 ],
 "metadata": {
  "kernelspec": {
   "display_name": "Python 3 (ipykernel)",
   "language": "python",
   "name": "python3"
  },
  "language_info": {
   "codemirror_mode": {
    "name": "ipython",
    "version": 3
   },
   "file_extension": ".py",
   "mimetype": "text/x-python",
   "name": "python",
   "nbconvert_exporter": "python",
   "pygments_lexer": "ipython3",
   "version": "3.12.4"
  }
 },
 "nbformat": 4,
 "nbformat_minor": 5
}
